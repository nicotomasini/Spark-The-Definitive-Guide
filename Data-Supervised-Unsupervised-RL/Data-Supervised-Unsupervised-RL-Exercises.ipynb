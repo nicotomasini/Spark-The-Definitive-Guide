{
  "cells": [
    {
      "cell_type": "markdown",
      "metadata": {
        "id": "HvrmScWWUZYF"
      },
      "source": [
        "# Exercise 1: Jupyter Notebooks and Python\n",
        "\n",
        "* Work through the short tutorial below to get you up to speed in python and jupyter notebooks. "
      ]
    },
    {
      "cell_type": "markdown",
      "metadata": {
        "id": "Itbb-7BbUZYK"
      },
      "source": [
        "## Tutorial on Jupyter and Python \n",
        "\n",
        "### Jupyter Notebooks\n",
        "\n",
        "* Cells can be <b>evaluated</b> by selecting them and then hitting <code>shift + enter</code>\n",
        "* New cells can be <b>inserted</b> using the Insert option in the menu\n",
        "* Cells can be <b>edited</b> using the Edit option in the menu"
      ]
    },
    {
      "cell_type": "code",
      "execution_count": null,
      "metadata": {
        "id": "gqYfpTRlUZYK",
        "outputId": "c2538589-6f6b-4e1f-c27b-909f4c781fc6"
      },
      "outputs": [
        {
          "name": "stdout",
          "output_type": "stream",
          "text": [
            "You have executed this cell.\n"
          ]
        }
      ],
      "source": [
        "# This is a cell. You can execute it by selecting it using your mouse (indicated by a border) and then press shift+enter. \n",
        "print('You have executed this cell.')"
      ]
    },
    {
      "cell_type": "markdown",
      "metadata": {
        "id": "Rh7kMfRnUZYM"
      },
      "source": [
        "\n",
        "### Python\n",
        "\n",
        "* Python is a strongly, dynamically <b>typed</b> language\n",
        "* Code blocks in python are defined using <b>indents</b> (tabs) instead of <code>}</code> or <code>{</code>\n",
        "* You do not have to use <code>;</code>\n",
        "* <code>)</code> and <code>(</code> can be omitted in many cases \n",
        "* <b>Lists, dictionaries and numpy arrays</b> will be our main data structures\n",
        "\n",
        "Try to <b>learn</b> the syntax from <b>coding</b>, and referring to other code samples. It is quite simple. We will cover\n",
        "only the most important things here."
      ]
    },
    {
      "cell_type": "markdown",
      "metadata": {
        "id": "P-L5JXfcUZYM"
      },
      "source": [
        "### Conditional Statements\n",
        "\n",
        "In python there is an <code>if</code> statement (the indent is important!) following the same semantical rules as in other languages:\n",
        "\n",
        "```python\n",
        "if condition:\n",
        "    statement\n",
        "```"
      ]
    },
    {
      "cell_type": "code",
      "execution_count": null,
      "metadata": {
        "id": "Q81FEiBPUZYN",
        "outputId": "76eab3e2-807c-47b4-a34d-2d2f1a8f90de"
      },
      "outputs": [
        {
          "name": "stdout",
          "output_type": "stream",
          "text": [
            "10 is greater than 1.\n"
          ]
        }
      ],
      "source": [
        "if 10 > 5:\n",
        "    print('10 is greater than 1.')"
      ]
    },
    {
      "cell_type": "markdown",
      "metadata": {
        "id": "QMgmmpS7UZYN"
      },
      "source": [
        "There is also an else and an else-if version of the statement. Logical expression are negated using the <code>not</code>\n",
        "statement, they can be concatenated using the <code>and</code> and <code>or</code> operators:<br><br>\n",
        "``` python\n",
        "if condition1:\n",
        "    statement1\n",
        "elif condition2:\n",
        "    statement2\n",
        "else condition3:\n",
        "    statement3\n",
        "```\n"
      ]
    },
    {
      "cell_type": "code",
      "execution_count": null,
      "metadata": {
        "id": "bAFY7laNUZYO",
        "outputId": "2f12c004-0c7b-4747-8660-19ed3157f0bd"
      },
      "outputs": [
        {
          "name": "stdout",
          "output_type": "stream",
          "text": [
            "x is in (3;inf)\n"
          ]
        }
      ],
      "source": [
        "x = 3.001\n",
        "\n",
        "if x < 0:\n",
        "    print('x is in (-inf, 0)')\n",
        "elif x >= 0 and x <= 3:\n",
        "    print('x is in [0;3]') \n",
        "else:\n",
        "    print('x is in (3;inf)')"
      ]
    },
    {
      "cell_type": "markdown",
      "metadata": {
        "id": "SWqpsKsXUZYO"
      },
      "source": [
        "### Python Datastructures\n",
        "\n",
        "#### Lists\n",
        "Lists and dictionaries and tuples are the most important python data structures. A list is defined using the <code>[]</code> syntax."
      ]
    },
    {
      "cell_type": "code",
      "execution_count": null,
      "metadata": {
        "id": "v4OFmmgQUZYO",
        "outputId": "2c8524f6-c401-4125-8d81-4588814ef569"
      },
      "outputs": [
        {
          "name": "stdout",
          "output_type": "stream",
          "text": [
            "['item1', 2, [...]]\n"
          ]
        }
      ],
      "source": [
        "list1 = [] # This defines a list\n",
        "list1.append('item1') # add a string to the list\n",
        "list1.append(2) # add an integer to the list, lists are not restricted to one data-type\n",
        "\n",
        "list1.append(list1)\n",
        "print(list1)"
      ]
    },
    {
      "cell_type": "code",
      "execution_count": null,
      "metadata": {
        "id": "Z5330p_MUZYP",
        "outputId": "7b2c67a0-4d8b-4ed2-a22e-6a65f8b5125b"
      },
      "outputs": [
        {
          "name": "stdout",
          "output_type": "stream",
          "text": [
            "['item1', 2]\n"
          ]
        }
      ],
      "source": [
        "list2 = ['item1', 2] # direct initialization of a list\n",
        "print(list2)"
      ]
    },
    {
      "cell_type": "code",
      "execution_count": null,
      "metadata": {
        "id": "gwuj-sA7UZYP",
        "outputId": "af9912d1-925a-4522-b4e4-b20a5762066f"
      },
      "outputs": [
        {
          "name": "stdout",
          "output_type": "stream",
          "text": [
            "[2, 'item2', 3]\n"
          ]
        }
      ],
      "source": [
        "list3 = ['item1', 2, 'item2', 3]\n",
        "list3.remove('item1') # items can be removed\n",
        "print(list3)"
      ]
    },
    {
      "cell_type": "markdown",
      "metadata": {
        "id": "rUiSwirlUZYP"
      },
      "source": [
        "We can check if an item is inside the list by using the <code>in</code> operator:"
      ]
    },
    {
      "cell_type": "code",
      "execution_count": null,
      "metadata": {
        "id": "j-mZZVWRUZYQ",
        "outputId": "f01cee12-f22c-4fa6-c9f7-656854bdc90c"
      },
      "outputs": [
        {
          "name": "stdout",
          "output_type": "stream",
          "text": [
            "True\n",
            "False\n"
          ]
        }
      ],
      "source": [
        "list4 = ['item1', 2, 'item2', 3]\n",
        "print(2 in list4)\n",
        "print('item1' not in list4)"
      ]
    },
    {
      "cell_type": "markdown",
      "metadata": {
        "id": "kSv1yiy-UZYQ"
      },
      "source": [
        "You can retrieve the number of items in a list using the <code>len</code> operator:"
      ]
    },
    {
      "cell_type": "code",
      "execution_count": null,
      "metadata": {
        "id": "P0ZkjGIUUZYQ",
        "outputId": "1096a298-b048-4ccb-d7e2-4321f1d50d11"
      },
      "outputs": [
        {
          "data": {
            "text/plain": [
              "6"
            ]
          },
          "execution_count": 11,
          "metadata": {},
          "output_type": "execute_result"
        }
      ],
      "source": [
        "list1 = [1,2,3,4,5,6]\n",
        "len(list1)"
      ]
    },
    {
      "cell_type": "markdown",
      "metadata": {
        "id": "4dRfFgIhUZYQ"
      },
      "source": [
        "### Dictionaries\n",
        "Dictionaries are an <b>associative</b> data structure (such as a HashMap) combining a key and a value:"
      ]
    },
    {
      "cell_type": "code",
      "execution_count": null,
      "metadata": {
        "id": "O1yUyrkrUZYR",
        "outputId": "90f23e89-8f85-4edb-9c56-08a2072c52f9"
      },
      "outputs": [
        {
          "name": "stdout",
          "output_type": "stream",
          "text": [
            "{'cat': [[1, 2, 3, 4]], 'dog': [[5, 6, 1, 0]]}\n",
            "{'cat': [[1, 2, 3, 4], 'bad fvec'], 'dog': [[5, 6, 1, 0]]}\n"
          ]
        }
      ],
      "source": [
        "fvecs_by_class = dict() # initialize a dictionary\n",
        "fvecs_by_class['cat'] = [[1, 2, 3 ,4]] # key is a string, value is a list, containing a single element (another list)\n",
        "fvecs_by_class['dog'] = [[5, 6, 1, 0]]\n",
        "\n",
        "print(fvecs_by_class)\n",
        "\n",
        "fvecs_by_class['cat'].append('bad fvec')\n",
        "\n",
        "print(fvecs_by_class)"
      ]
    },
    {
      "cell_type": "code",
      "execution_count": null,
      "metadata": {
        "id": "UufhkRCMUZYR",
        "outputId": "d447db5a-5b02-4000-c623-b0c5c6d00e6f"
      },
      "outputs": [
        {
          "name": "stdout",
          "output_type": "stream",
          "text": [
            "{'cat': [[1, 2, 3, 4], 'bad fvec', 'a bad feature vector'], 'dog': [[5, 6, 1, 0]]}\n"
          ]
        }
      ],
      "source": [
        "fvecs_by_class['cat'].append('a bad feature vector') # we add another value to the string which certainly is not a fvec!!\n",
        "print(fvecs_by_class)"
      ]
    },
    {
      "cell_type": "markdown",
      "metadata": {
        "id": "BdLbxNw5UZYR"
      },
      "source": [
        "### Tuples\n",
        "\n",
        "Tuples are another important data structure we use in python. However, we usually do not use them to represent vectors (we use a library for this called numpy). Nevertheless, tuples can be very useful in many applications. \n",
        "\n",
        "They are exactly what you expect them to be, the behave like tuples in math. Remember our definition of tuples using the carthesian product:\n",
        "\n",
        "$A \\times B = \\{ (a,b) \\;|\\; a \\in A, b \\in B\\}$\n",
        "\n",
        "Tuples are defined in python using the <code>()</code> syntax. As python is not strongly typed, we do not have to define the type of each dimension (as opposed to mathematics)."
      ]
    },
    {
      "cell_type": "code",
      "execution_count": null,
      "metadata": {
        "id": "qRPHdQWQUZYS",
        "outputId": "2fc293ac-a614-4503-a71c-80ec5430d97d"
      },
      "outputs": [
        {
          "name": "stdout",
          "output_type": "stream",
          "text": [
            "(1, 3, 'red')\n"
          ]
        }
      ],
      "source": [
        "Colors = ['red', 'green', 'blue', 'yellow']\n",
        "tuple1 = (1, 3, Colors[0]) # once defined tuples have a fixed numer of elements (as opposed to a list)\n",
        "\n",
        "print(tuple1) # tuples are accessed using indexing"
      ]
    },
    {
      "cell_type": "markdown",
      "metadata": {
        "id": "ALPYuU2hUZYS"
      },
      "source": [
        "So from a mathematical perspective **tuple1** above but be an element of the set\n",
        "$\\mathbb{R} \\times \\mathbb{R} \\times Colors$. Remember in tuples:\n",
        "- Ordering matters\n",
        "- Elements can occur in a tuple multiple times"
      ]
    },
    {
      "cell_type": "code",
      "execution_count": null,
      "metadata": {
        "id": "Cf7AqCK6UZYS",
        "outputId": "797bb1a9-3b4f-4080-ab25-fc8d922aad7f"
      },
      "outputs": [
        {
          "name": "stdout",
          "output_type": "stream",
          "text": [
            "False\n",
            "(1, 1, 1)\n"
          ]
        }
      ],
      "source": [
        "tuple1 = (1,3,4)\n",
        "tuple2 = (1,4,3)\n",
        "print(tuple1 == tuple2) # Ordering matters\n",
        "\n",
        "tuple3 = (1,1,1) # Elements can occur multiple times\n",
        "print(tuple3)"
      ]
    },
    {
      "cell_type": "markdown",
      "metadata": {
        "id": "e1b9IF1qUZYS"
      },
      "source": [
        "### For-Loops\n",
        "\n",
        "For loops are everywhere in ML and signal processing. The syntax is a bit different from what we are used to in Java and C.\n",
        "For loops are based on the idea of <b>iterators</b> in python (this is similar to foreach in other languages). We therefore do not define a start-value, end condition and iteration statement like in other languages we simply iterate over a sequence.\n",
        "\n",
        "The syntax is:\n",
        "<code>\n",
        "for variable in iterable-structure:\n",
        "    statement\n",
        "</code>\n",
        "\n",
        "We generally use the <code>range(*start*, *stop*, *step*)</code> function in combination with for loops. \n"
      ]
    },
    {
      "cell_type": "code",
      "execution_count": null,
      "metadata": {
        "id": "69sl5aISUZYS",
        "outputId": "e39e0197-e6f0-4621-da69-8f9175c65446"
      },
      "outputs": [
        {
          "name": "stdout",
          "output_type": "stream",
          "text": [
            "1\n",
            "3\n",
            "5\n",
            "7\n",
            "9\n"
          ]
        }
      ],
      "source": [
        "for value in range(1,10,2):\n",
        "    print(value)"
      ]
    },
    {
      "cell_type": "code",
      "execution_count": null,
      "metadata": {
        "id": "-iL_OcNkUZYT",
        "outputId": "66fb679c-587f-458f-c30d-99f16a1eaf49"
      },
      "outputs": [
        {
          "name": "stdout",
          "output_type": "stream",
          "text": [
            "one\n",
            "two\n",
            "three\n"
          ]
        }
      ],
      "source": [
        "list1 = ['one', 'two', 'three']\n",
        "for item in list1:\n",
        "    print(item)"
      ]
    },
    {
      "cell_type": "markdown",
      "metadata": {
        "id": "boEvQH1jUZYT"
      },
      "source": [
        "### Functions\n",
        "Functions in python are defined using the <b>def</b> keyword. Be aware that there are no \"{\" or \"}\". Indents are used to define the program structure. The general syntax is:\n",
        "<code>\n",
        "    **def** func(arg1, arg2):\n",
        "        # some code here\n",
        "        **return** value # if you want to return a value\n",
        "</code>"
      ]
    },
    {
      "cell_type": "code",
      "execution_count": null,
      "metadata": {
        "id": "Gvm8ynS_UZYT"
      },
      "outputs": [],
      "source": [
        "def add_vectors(tuple1, tuple2): # implements a standard vector addition using tuples as input\n",
        "    \n",
        "    # We have to check that:\n",
        "    #    1. the tuples have the same dimension \n",
        "    #    2. the tuples have the same type\n",
        "    if len(tuple1) != len(tuple2):\n",
        "        raise Exception('Vectors do not have the same dimension')\n",
        "    \n",
        "    # If we need variable dimensional tuples (like k-dimensional) we use lists instead.\n",
        "    # They are almost the same thing. \n",
        "    tuple3 = []\n",
        "    \n",
        "    # Loop through all dimensions and perform element-wise addition.\n",
        "    #\n",
        "    for i in range(len(tuple1)): \n",
        "        tuple3.append(tuple1[i] + tuple2[i]) # Append to the end of the list\n",
        "    \n",
        "    return tuple(tuple3) # Convert to tuple"
      ]
    },
    {
      "cell_type": "code",
      "execution_count": null,
      "metadata": {
        "id": "yG96yRIoUZYT",
        "outputId": "3fcaedbf-a1b5-4f1f-9a35-8620039c1427"
      },
      "outputs": [
        {
          "data": {
            "text/plain": [
              "(4, 6, 8)"
            ]
          },
          "execution_count": 20,
          "metadata": {},
          "output_type": "execute_result"
        }
      ],
      "source": [
        "vec1 = (1,2,3)\n",
        "vec2 = (3,4,5)\n",
        "add_vectors(vec1, vec2)"
      ]
    },
    {
      "cell_type": "markdown",
      "metadata": {
        "id": "ktku47oxUZYT"
      },
      "source": [
        "## Numpy\n",
        "\n",
        "Notice: Parts of this tutorial are from the excellent tutorial found at https://cs231n.github.io/python-numpy-tutorial/#numpy.\n",
        "\n",
        "\n",
        "Numpy is the core library for scientific computing in Python. It provides a high-performance multidimensional array object, and tools for working with these arrays. If you are already familiar with MATLAB, you might find this tutorial useful to get started with Numpy.\n",
        "\n",
        "\n",
        "### Arrays\n",
        "A numpy array is a grid of values, all of the same type, and is indexed by a tuple of nonnegative integers. The number of dimensions is the rank of the array; the shape of an array is a tuple of integers giving the size of the array along each dimension.\n",
        "\n",
        "We can initialize numpy arrays from nested Python lists, and access elements using square brackets. The first index into the array corresponds to the row-index, the second index to the column-index (such as when we use matrices). The third dimension is the color channel.\n",
        "\n",
        "<center>\n",
        "<img src='https://github.com/shegenbart/Jupyter-Exercises/blob/main/Data-Supervised-Unsupervised-RL/figures/numpy_tensor.png?raw=1' width=600/>\n",
        "</center>\n"
      ]
    },
    {
      "cell_type": "code",
      "execution_count": null,
      "metadata": {
        "id": "LYWLrOOGUZYT",
        "outputId": "d7eff918-bef3-4177-ec6d-fa342b2f2782"
      },
      "outputs": [
        {
          "name": "stdout",
          "output_type": "stream",
          "text": [
            "<class 'numpy.ndarray'>\n",
            "(3,)\n",
            "1 2 3\n",
            "[5 2 3]\n",
            "(2, 3)\n",
            "1 2 4\n"
          ]
        }
      ],
      "source": [
        "import numpy as np\n",
        "\n",
        "a = np.array([1, 2, 3])   # Create a rank 1 array\n",
        "print(type(a))            # Prints \"<class 'numpy.ndarray'>\"\n",
        "print(a.shape)            # Prints \"(3,)\"\n",
        "print(a[0], a[1], a[2])   # Prints \"1 2 3\"\n",
        "a[0] = 5                  # Change an element of the array\n",
        "print(a)                  # Prints \"[5, 2, 3]\"\n",
        "\n",
        "b = np.array([[1,2,3],[4,5,6]])    # Create a rank 2 array\n",
        "print(b.shape)                     # Prints \"(2, 3)\"\n",
        "print(b[0, 0], b[0, 1], b[1, 0])   # Prints \"1 2 4\""
      ]
    },
    {
      "cell_type": "markdown",
      "metadata": {
        "id": "M4SBgnx2UZYU"
      },
      "source": [
        "Numpy also provides many functions to create arrays:"
      ]
    },
    {
      "cell_type": "code",
      "execution_count": null,
      "metadata": {
        "id": "C9lsizDmUZYU",
        "outputId": "4a9fbecc-b140-40f7-e7b1-9064ae38d14c"
      },
      "outputs": [
        {
          "name": "stdout",
          "output_type": "stream",
          "text": [
            "[[0. 0.]\n",
            " [0. 0.]]\n",
            "[[1. 1.]]\n",
            "[[7 7]\n",
            " [7 7]]\n",
            "[[1. 0.]\n",
            " [0. 1.]]\n",
            "[[0.74529854 0.4006793 ]\n",
            " [0.1544968  0.54295384]]\n"
          ]
        }
      ],
      "source": [
        "import numpy as np\n",
        "\n",
        "a = np.zeros((2,2))   # Create an array of all zeros\n",
        "print(a)              # Prints \"[[ 0.  0.]\n",
        "                      #          [ 0.  0.]]\"\n",
        "\n",
        "b = np.ones((1,2))    # Create an array of all ones\n",
        "print(b)              # Prints \"[[ 1.  1.]]\"\n",
        "\n",
        "c = np.full((2,2), 7)  # Create a constant array\n",
        "print(c)               # Prints \"[[ 7.  7.]\n",
        "                       #          [ 7.  7.]]\"\n",
        "\n",
        "d = np.eye(2)         # Create a 2x2 identity matrix\n",
        "print(d)              # Prints \"[[ 1.  0.]\n",
        "                      #          [ 0.  1.]]\"\n",
        "\n",
        "e = np.random.random((2,2))  # Create an array filled with random values\n",
        "print(e)                     # Might print \"[[ 0.91940167  0.08143941]\n",
        "                             #               [ 0.68744134  0.87236687]]\""
      ]
    },
    {
      "cell_type": "markdown",
      "metadata": {
        "id": "otNZH-_RUZYU"
      },
      "source": [
        "### Array indexing\n",
        "Numpy offers several ways to index into arrays.\n",
        "\n",
        "Slicing: Similar to Python lists, numpy arrays can be sliced. Since arrays may be multidimensional, you must specify a slice for each dimension of the array:"
      ]
    },
    {
      "cell_type": "code",
      "execution_count": null,
      "metadata": {
        "id": "B-1vpnioUZYU",
        "outputId": "f309b971-346d-4c0b-c82d-482955beba28"
      },
      "outputs": [
        {
          "name": "stdout",
          "output_type": "stream",
          "text": [
            "2\n",
            "77\n"
          ]
        }
      ],
      "source": [
        "import numpy as np\n",
        "\n",
        "# Create the following rank 2 array with shape (3, 4)\n",
        "# [[ 1  2  3  4]\n",
        "#  [ 5  6  7  8]\n",
        "#  [ 9 10 11 12]]\n",
        "a = np.array([[1,2,3,4], [5,6,7,8], [9,10,11,12]])\n",
        "\n",
        "# Use slicing to pull out the subarray consisting of the first 2 rows\n",
        "# and columns 1 and 2; b is the following array of shape (2, 2):\n",
        "# [[2 3]\n",
        "#  [6 7]]\n",
        "b = a[:2, 1:3]\n",
        "\n",
        "# A slice of an array is a view into the same data, so modifying it\n",
        "# will modify the original array.\n",
        "print(a[0, 1])   # Prints \"2\"\n",
        "b[0, 0] = 77     # b[0, 0] is the same piece of data as a[0, 1]\n",
        "print(a[0, 1])   # Prints \"77\""
      ]
    },
    {
      "cell_type": "markdown",
      "metadata": {
        "id": "bOEJolGLUZYV"
      },
      "source": [
        "You can also mix integer indexing with slice indexing. However, doing so will yield an array of lower rank than the original array. Note that this is quite different from the way that MATLAB handles array slicing:"
      ]
    },
    {
      "cell_type": "code",
      "execution_count": null,
      "metadata": {
        "id": "2VAMphTpUZYV",
        "outputId": "0646b136-098f-4dc9-e3de-8b3a1075f92c"
      },
      "outputs": [
        {
          "name": "stdout",
          "output_type": "stream",
          "text": [
            "[5 6 7 8] (4,)\n",
            "[[5 6 7 8]] (1, 4)\n",
            "[ 2  6 10] (3,)\n",
            "[[ 2]\n",
            " [ 6]\n",
            " [10]] (3, 1)\n"
          ]
        }
      ],
      "source": [
        "import numpy as np\n",
        "\n",
        "# Create the following rank 2 array with shape (3, 4)\n",
        "# [[ 1  2  3  4]\n",
        "#  [ 5  6  7  8]\n",
        "#  [ 9 10 11 12]]\n",
        "a = np.array([[1,2,3,4], [5,6,7,8], [9,10,11,12]])\n",
        "\n",
        "# Two ways of accessing the data in the middle row of the array.\n",
        "# Mixing integer indexing with slices yields an array of lower rank,\n",
        "# while using only slices yields an array of the same rank as the\n",
        "# original array:\n",
        "row_r1 = a[1, :]    # Rank 1 view of the second row of a\n",
        "row_r2 = a[1:2, :]  # Rank 2 view of the second row of a\n",
        "print(row_r1, row_r1.shape)  # Prints \"[5 6 7 8] (4,)\"\n",
        "print(row_r2, row_r2.shape)  # Prints \"[[5 6 7 8]] (1, 4)\"\n",
        "\n",
        "# We can make the same distinction when accessing columns of an array:\n",
        "col_r1 = a[:, 1]\n",
        "col_r2 = a[:, 1:2]\n",
        "print(col_r1, col_r1.shape)  # Prints \"[ 2  6 10] (3,)\"\n",
        "print(col_r2, col_r2.shape)  # Prints \"[[ 2]\n",
        "                             #          [ 6]\n",
        "                             #          [10]] (3, 1)\""
      ]
    },
    {
      "cell_type": "markdown",
      "metadata": {
        "id": "hJqS8cZDUZYV"
      },
      "source": [
        "One useful trick with integer array indexing is selecting or mutating one element from each row of a matrix:"
      ]
    },
    {
      "cell_type": "code",
      "execution_count": null,
      "metadata": {
        "id": "CaH_EWZkUZYV",
        "outputId": "90507546-8178-4c9f-88c4-f94034c522f6"
      },
      "outputs": [
        {
          "name": "stdout",
          "output_type": "stream",
          "text": [
            "[[ 1  2  3]\n",
            " [ 4  5  6]\n",
            " [ 7  8  9]\n",
            " [10 11 12]]\n",
            "[ 1  6  7 11]\n",
            "[[11  2  3]\n",
            " [ 4  5 16]\n",
            " [17  8  9]\n",
            " [10 21 12]]\n"
          ]
        }
      ],
      "source": [
        "import numpy as np\n",
        "\n",
        "# Create a new array from which we will select elements\n",
        "a = np.array([[1,2,3], [4,5,6], [7,8,9], [10, 11, 12]])\n",
        "\n",
        "print(a)  # prints \"array([[ 1,  2,  3],\n",
        "          #                [ 4,  5,  6],\n",
        "          #                [ 7,  8,  9],\n",
        "          #                [10, 11, 12]])\"\n",
        "\n",
        "# Create an array of indices\n",
        "b = np.array([0, 2, 0, 1])\n",
        "\n",
        "# Select one element from each row of a using the indices in b\n",
        "print(a[np.arange(4), b])  # Prints \"[ 1  6  7 11]\"\n",
        "\n",
        "# Mutate one element from each row of a using the indices in b\n",
        "a[np.arange(4), b] += 10\n",
        "\n",
        "print(a)  # prints \"array([[11,  2,  3],\n",
        "          #                [ 4,  5, 16],\n",
        "          #                [17,  8,  9],\n",
        "          #                [10, 21, 12]])"
      ]
    },
    {
      "cell_type": "markdown",
      "metadata": {
        "id": "O2pfF1AjUZYV"
      },
      "source": [
        "**Boolean array indexing:** Boolean array indexing lets you pick out arbitrary elements of an array. Frequently this type of indexing is used to select the elements of an array that satisfy some condition. Here is an example:"
      ]
    },
    {
      "cell_type": "code",
      "execution_count": null,
      "metadata": {
        "id": "ybWFS8kRUZYW",
        "outputId": "bc837997-5a07-4ea9-b08b-a9140bb4e984"
      },
      "outputs": [
        {
          "name": "stdout",
          "output_type": "stream",
          "text": [
            "[[False False]\n",
            " [ True  True]\n",
            " [ True  True]]\n",
            "[3 4 5 6]\n",
            "[3 4 5 6]\n"
          ]
        }
      ],
      "source": [
        "import numpy as np\n",
        "\n",
        "a = np.array([[1,2], [3, 4], [5, 6]])\n",
        "\n",
        "bool_idx = (a > 2)   # Find the elements of a that are bigger than 2;\n",
        "                     # this returns a numpy array of Booleans of the same\n",
        "                     # shape as a, where each slot of bool_idx tells\n",
        "                     # whether that element of a is > 2.\n",
        "\n",
        "print(bool_idx)      # Prints \"[[False False]\n",
        "                     #          [ True  True]\n",
        "                     #          [ True  True]]\"\n",
        "\n",
        "# We use boolean array indexing to construct a rank 1 array\n",
        "# consisting of the elements of a corresponding to the True values\n",
        "# of bool_idx\n",
        "print(a[bool_idx])  # Prints \"[3 4 5 6]\"\n",
        "\n",
        "# We can do all of the above in a single concise statement:\n",
        "print(a[a > 2])     # Prints \"[3 4 5 6]\""
      ]
    },
    {
      "cell_type": "markdown",
      "metadata": {
        "id": "_pK-cieNUZYW"
      },
      "source": [
        "### Array Math\n",
        "\n",
        "Basic mathematical functions operate elementwise on arrays, and are available both as operator overloads and as functions in the numpy module:"
      ]
    },
    {
      "cell_type": "code",
      "execution_count": null,
      "metadata": {
        "id": "ZDmhtAwtUZYW",
        "outputId": "25270316-4936-4951-9ff7-99fa99059697"
      },
      "outputs": [
        {
          "name": "stdout",
          "output_type": "stream",
          "text": [
            "[[ 6.  8.]\n",
            " [10. 12.]]\n",
            "[[ 6.  8.]\n",
            " [10. 12.]]\n",
            "[[-4. -4.]\n",
            " [-4. -4.]]\n",
            "[[-4. -4.]\n",
            " [-4. -4.]]\n",
            "[[ 5. 12.]\n",
            " [21. 32.]]\n",
            "[[ 5. 12.]\n",
            " [21. 32.]]\n",
            "[[0.2        0.33333333]\n",
            " [0.42857143 0.5       ]]\n",
            "[[0.2        0.33333333]\n",
            " [0.42857143 0.5       ]]\n",
            "[[1.         1.41421356]\n",
            " [1.73205081 2.        ]]\n"
          ]
        }
      ],
      "source": [
        "import numpy as np\n",
        "\n",
        "x = np.array([[1,2],[3,4]], dtype=np.float64)\n",
        "y = np.array([[5,6],[7,8]], dtype=np.float64)\n",
        "\n",
        "# Elementwise sum; both produce the array\n",
        "# [[ 6.0  8.0]\n",
        "#  [10.0 12.0]]\n",
        "print(x + y)\n",
        "print(np.add(x, y))\n",
        "\n",
        "# Elementwise difference; both produce the array\n",
        "# [[-4.0 -4.0]\n",
        "#  [-4.0 -4.0]]\n",
        "print(x - y)\n",
        "print(np.subtract(x, y))\n",
        "\n",
        "# Elementwise product; both produce the array\n",
        "# [[ 5.0 12.0]\n",
        "#  [21.0 32.0]]\n",
        "print(x * y)\n",
        "print(np.multiply(x, y))\n",
        "\n",
        "# Elementwise division; both produce the array\n",
        "# [[ 0.2         0.33333333]\n",
        "#  [ 0.42857143  0.5       ]]\n",
        "print(x / y)\n",
        "print(np.divide(x, y))\n",
        "\n",
        "# Elementwise square root; produces the array\n",
        "# [[ 1.          1.41421356]\n",
        "#  [ 1.73205081  2.        ]]\n",
        "print(np.sqrt(x))"
      ]
    },
    {
      "cell_type": "markdown",
      "metadata": {
        "id": "mEoux4wGUZYW"
      },
      "source": [
        "Numpy provides many useful functions for performing computations on arrays; one of the most useful is sum:"
      ]
    },
    {
      "cell_type": "code",
      "execution_count": null,
      "metadata": {
        "id": "qjvW-12FUZYW",
        "outputId": "de527cd8-19a7-4216-dfec-984f87a409dd"
      },
      "outputs": [
        {
          "name": "stdout",
          "output_type": "stream",
          "text": [
            "10\n",
            "[4 6]\n",
            "[3 7]\n"
          ]
        }
      ],
      "source": [
        "import numpy as np\n",
        "\n",
        "x = np.array([[1,2],[3,4]])\n",
        "\n",
        "print(np.sum(x))  # Compute sum of all elements; prints \"10\"\n",
        "print(np.sum(x, axis=0))  # Compute sum of each column; prints \"[4 6]\"\n",
        "print(np.sum(x, axis=1))  # Compute sum of each row; prints \"[3 7]\""
      ]
    },
    {
      "cell_type": "markdown",
      "metadata": {
        "id": "xcGGWaF9UZYW"
      },
      "source": [
        "# Exercise 2:  Explore the Digits - Data\n",
        "\n",
        "Load the digits data using the ```load_digits()``` function provided by scikit-learn. Explore the data and try to answer the following questions:\n",
        "1. What is the number of **samples** and what is the **dimension** of the data?\n",
        "2. What is the **data-type** (categorical, numerical, ...)?\n",
        "3. Is the dataset suited for a **supervised** algorithm?\n",
        "4. Is the dataset suited for an **unsupervised** algorithm?\n",
        "\n",
        "*Hints:*\n",
        "* Each dataset comes with a description that can be viewed using ```print(data.DESCR)```.\n",
        "* ```type(x)``` gives us the type of an object in python.\n",
        "* ```x.shape``` tells us the shape (dimensions in each axis) of a ```numpy``` array. \n"
      ]
    },
    {
      "cell_type": "code",
      "execution_count": null,
      "metadata": {
        "id": "wKN9FzvoUZYX"
      },
      "outputs": [],
      "source": [
        "import sklearn\n",
        "import matplotlib.pyplot as plt\n",
        "from sklearn.datasets import load_digits\n",
        "\n",
        "#1.\n",
        "data = load_digits()\n",
        "\n",
        "print(data.DESCR)\n",
        "#2.\n",
        "\n",
        "#3.\n",
        "\n",
        "#4.\n",
        "\n"
      ]
    },
    {
      "cell_type": "markdown",
      "metadata": {
        "id": "zyIlNseZUZYX"
      },
      "source": [
        "# Exercise 3:  Explore the Diabetes - Data\n",
        "\n",
        "Load the digits data using the ```load_digits()``` function provided by scikit-learn. Explore the data and try to answer the following questions:\n",
        "1. What is the number of **samples** and what is the **dimension** of the data?\n",
        "2. What is the **data-type** (categorical, numerical, ...)?\n",
        "3. Is the dataset suited for a **supervised** algorithm?\n",
        "4. Is the dataset suited for an **unsupervised** algorithm?\n",
        "\n",
        "*Hints:*\n",
        "* Each dataset comes with a description that can be viewed using ```print(data.DESCR)```.\n",
        "* ```type(x)``` gives us the type of an object in python.\n",
        "* ```x.shape``` tells us the shape (dimensions in each axis) of a ```numpy``` array. "
      ]
    },
    {
      "cell_type": "code",
      "execution_count": null,
      "metadata": {
        "id": "o6PVTV32UZYX"
      },
      "outputs": [],
      "source": [
        "import sklearn\n",
        "import matplotlib.pyplot as plt\n",
        "from sklearn.datasets import load_diabetes"
      ]
    }
  ],
  "metadata": {
    "kernelspec": {
      "display_name": "Python 3.8.12 ('ml-3.8')",
      "language": "python",
      "name": "python3"
    },
    "language_info": {
      "codemirror_mode": {
        "name": "ipython",
        "version": 3
      },
      "file_extension": ".py",
      "mimetype": "text/x-python",
      "name": "python",
      "nbconvert_exporter": "python",
      "pygments_lexer": "ipython3",
      "version": "3.8.12"
    },
    "orig_nbformat": 4,
    "vscode": {
      "interpreter": {
        "hash": "71e3996440a4286f4b5430a3d4d1ae66fa68d894e5edac3334c7ebe5f98b7546"
      }
    },
    "colab": {
      "provenance": []
    }
  },
  "nbformat": 4,
  "nbformat_minor": 0
}